{
 "cells": [
  {
   "cell_type": "code",
   "execution_count": null,
   "metadata": {},
   "outputs": [],
   "source": [
    "from bs4 import BeautifulSoup as bs\n",
    "webs = []\n",
    "lista = []\n",
    "\n",
    "while True:\n",
    "  web = input(\"Introduce web: \")\n",
    "  if len(web) < 5: break\n",
    "  webs.append(web) \n",
    "\n",
    "for web in webs:\n",
    "  page = bs(web)\n",
    "  players = page.findAll(\"div\", class_=\"tns-item\")\n",
    "\n",
    "  for player in players:\n",
    "      name = player.find(\"div\", class_=\"name main-view\")\n",
    "      rating = player.find(\"div\", class_=\"rating\") if player.find(\"div\", class_=\"rating\") else bs(\"\")\n",
    "      if player.find(\"div\", class_=\"infoRow\"): continue\n",
    "      if len(name.text) < 2: continue\n",
    "      lista.append(\"{} {}\".format(name.text, rating.text))\n",
    "\n",
    "import pandas as pd\n",
    "pd.DataFrame(lista)"
   ]
  }
 ],
 "metadata": {
  "kernelspec": {
   "display_name": "Python 3",
   "language": "python",
   "name": "python3"
  },
  "language_info": {
   "codemirror_mode": {
    "name": "ipython",
    "version": 3
   },
   "file_extension": ".py",
   "mimetype": "text/x-python",
   "name": "python",
   "nbconvert_exporter": "python",
   "pygments_lexer": "ipython3",
   "version": "3.8.3"
  }
 },
 "nbformat": 4,
 "nbformat_minor": 4
}
