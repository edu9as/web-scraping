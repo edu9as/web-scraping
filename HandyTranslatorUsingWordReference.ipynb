{
 "cells": [
  {
   "cell_type": "markdown",
   "metadata": {},
   "source": [
    "# Handy translator in your Python console using WordReference\n",
    "\n",
    "If you have read any of my notebooks, you might have noticed that my English level is not outstanding. What if I wrote a Python script that, after introducing a Spanish word, goes to <a href=\"https://www.wordreference.com/\">WordReference</a> and suggests some possible English translations for that word?\n",
    "\n",
    "Well, thanks to <a href=\"https://www.wordreference.com/\">WordReference</a> and its brilliantly-organized web architecture, this is possible. Welcome to my handy <a href=\"https://www.wordreference.com/\">WordReference</a> translator from Spanish to English!"
   ]
  },
  {
   "cell_type": "markdown",
   "metadata": {},
   "source": [
    "## Step 1: Load libraries\n",
    "\n",
    "It is required to load the following libraries for running this program_\n",
    "\n",
    "- **requests** and **BeautifulSoup**, as usual, for efficiently extracting the data from the Internet.\n",
    "- **time**, to meet the requirements established by WebReference <a href=\"https://www.wordreference.com/robots.txt\">robots.txt</a> criteria for crawlers. It is compulsary to wait 30 seconds between requests to WebReference when using a web-crawler. Although the objective of this script is just to make isolated consults, I have added one last line of code to fulfill this requirement just in case. "
   ]
  },
  {
   "cell_type": "code",
   "execution_count": 1,
   "metadata": {},
   "outputs": [],
   "source": [
    "import requests\n",
    "import time\n",
    "from bs4 import BeautifulSoup"
   ]
  },
  {
   "cell_type": "markdown",
   "metadata": {},
   "source": [
    "## Step 2: Introduce the word you want to translate and see the results!\n",
    "\n",
    "In the next block of code, after introducing an only Spanish word, the WordReference page containing its translations to English is requested (with `get` function in **requests** module) and parsed (with **BeautifulSoup**'s HTML parser). All translations are found in tables (between **table** tags, with class attribute being equal to **WRD**). In each table, all rows are extracted (within **tr** tags with class attribute being **odd** or **even**). Then, my code obtains all cells in each row (within **td** tags). \n",
    "\n",
    "Next, I loop over all cells in each row (`for all_td_in_row in all_td:`; and `for td in all_td_in_row`). Each cell is examined, and there are four possible situations:\n",
    "\n",
    "- The cell contains <u>the word to be translated</u>: it meets the second condition in the if statement (class attribute is equal to **FrWrd**), so the word is printed to the console after \"- If you want to translate \".\n",
    "- The cell contains <u>the context in which the word translated would be used</u>: it meets the first condition in the if statement (class attribute is absent), so the context is printed to the console after \"in the sense of \".\n",
    "- The cell contains <u>the translated word</u>. it meets the third condition in the if statement (class attribute is **ToWrd**), so the translation is printed to the console after \"then translate it to \" (if it is the first translated word) or after \"or \".\n",
    "- The cell contains <u>no interesting information</u>: the cell is ignored and nothing is printed to the console.\n",
    "\n",
    "Finally, my code waits 30 seconds before making another request to <a href=\"https://www.wordreference.com/\">WordReference</a>."
   ]
  },
  {
   "cell_type": "code",
   "execution_count": 2,
   "metadata": {},
   "outputs": [
    {
     "name": "stdout",
     "output_type": "stream",
     "text": [
      "Introduce word: traductor\n",
      "\n",
      "- If you want to translate 'traductor, traductora'\n",
      "   in the sense of '(persona que traduce) (multi-lingual person)',\n",
      "    then translate it to 'translator'\n",
      "\n",
      "- If you want to translate 'traductor, traductora'\n",
      "   in the sense of '(programa informático) (translation program)',\n",
      "    then translate it to 'automatic translator'\n",
      "\n",
      "- If you want to translate 'nota del traductor'\n",
      "   in the sense of '(puntualización del traductor)',\n",
      "    then translate it to 'translator's note'\n",
      "\n",
      "- If you want to translate 'traductor jurado, traductora jurada'\n",
      "   in the sense of '(oficial, certificado)',\n",
      "    then translate it to 'sworn translator'\n",
      "\n",
      "- If you want to translate 'traductor literario, traductora literaria'\n",
      "   in the sense of '(de textos, libros, filmes)',\n",
      "    then translate it to 'literary translator'\n",
      "\n",
      "- If you want to translate 'traductor público, traductora pública'\n",
      "   in the sense of '(oficial, certificado)',\n",
      "    then translate it to 'certified translator'\n"
     ]
    }
   ],
   "source": [
    "url = \"https://www.wordreference.com/es/en/translation.asp?spen={}\"\n",
    "page = requests.get(url.format(input(\"Introduce word: \")))\n",
    "soup = BeautifulSoup(page.text, \"html.parser\")\n",
    "tables = soup.findAll(\"table\", class_=\"WRD\")\n",
    "  \n",
    "mode = [0,1]\n",
    "# This counter was introduced for a nice printing of the results\n",
    "# The first position indicates the nature of the item to be printed\n",
    "# The second position talks about the nature of the last printed item\n",
    "# 0 indicates \"FrWord\" class\n",
    "# 1 indicates \"ToWrd\" class\n",
    "\n",
    "for table in tables:\n",
    "    rows = table.findAll(\"tr\", {\"class\": [\"odd\", \"even\"]})\n",
    "    all_td = [row.findAll(\"td\") for row in rows]\n",
    "    for all_td_in_row in all_td:\n",
    "        for td in all_td_in_row:\n",
    "            try:\n",
    "                if td.get(\"class\") == None and td.text.strip() != \"\":\n",
    "                    print(\"   in the sense of '\", td.text.strip(), \"',\", sep = \"\")\n",
    "                elif td.get(\"class\")[0] == \"FrWrd\": \n",
    "                    mode[0] = 0\n",
    "                    print(\"\") if mode == [0,1] else True\n",
    "                    word = list(td.children)[0].text.strip()\n",
    "                    print(\"- If you want to translate '{}'\".format(word) if \\\n",
    "                        mode[1] == 1 else \"{}or '{}'\".format(\" \"*24, word))\n",
    "                    mode[1] = 0\n",
    "                    \n",
    "                elif td.get(\"class\")[0] == \"ToWrd\":\n",
    "                    mode[0] = 1\n",
    "                    print(\"    then translate it to \" if mode[1] == 0 else \"{}or \".format(\" \"*22), end = \"\")\n",
    "                    mode[1] = 1\n",
    "                    translation = \"'\"\n",
    "                    for child in td.children:\n",
    "                        if child.name == None:\n",
    "                            translation += (child.strip() + \" \")\n",
    "                        elif child.name == \"span\":\n",
    "                            translation += (child.text.strip() + \" \")\n",
    "                    translation = translation.strip() + \"'\"\n",
    "                    print(translation)\n",
    "    \n",
    "            except:\n",
    "                continue\n",
    "time.sleep(30)"
   ]
  },
  {
   "cell_type": "markdown",
   "metadata": {},
   "source": [
    "I hope you have enjoyed this script. Also, I hope this program will help me to write better in English in the future!"
   ]
  }
 ],
 "metadata": {
  "kernelspec": {
   "display_name": "Python 3",
   "language": "python",
   "name": "python3"
  },
  "language_info": {
   "codemirror_mode": {
    "name": "ipython",
    "version": 3
   },
   "file_extension": ".py",
   "mimetype": "text/x-python",
   "name": "python",
   "nbconvert_exporter": "python",
   "pygments_lexer": "ipython3",
   "version": "3.8.3"
  }
 },
 "nbformat": 4,
 "nbformat_minor": 4
}
