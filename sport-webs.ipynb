{
 "cells": [
  {
   "cell_type": "markdown",
   "metadata": {},
   "source": [
    "# Scraping sport news' webs\n",
    "\n",
    "The main objective of this Notebook is to output all headlines within each sports web.\n",
    "\n",
    "The first step is to load the only two Python packages which are required to do this: *requests* and *BeautifulSoup*."
   ]
  },
  {
   "cell_type": "code",
   "execution_count": null,
   "metadata": {},
   "outputs": [],
   "source": [
    "import requests\n",
    "from bs4 import BeautifulSoup"
   ]
  },
  {
   "cell_type": "markdown",
   "metadata": {},
   "source": [
    "A brief introduction for these two packages:\n",
    "\n",
    "> **Requests** is an elegant and simple HTTP library for Python, built for human beings. (...) **Requests** allows you to send HTTP/1.1 requests extremely easily. There’s no need to manually add query strings to your URLs, or to form-encode your POST data. Keep-alive and HTTP connection pooling are 100% automatic, thanks to urllib3. (text from **https://requests.readthedocs.io/en/master/**, 2020-09-07)\n",
    "\n",
    "> **Beautiful Soup** is a Python library for pulling data out of HTML and XML files. It works with your favorite parser to provide idiomatic ways of navigating, searching, and modifying the parse tree. It commonly saves programmers hours or days of work. (text from **https://www.crummy.com/software/BeautifulSoup/bs4/doc/**, 2020-09-07)\n",
    "\n",
    "## MARCA\n",
    "\n",
    "In this first section I'm scraping www.marca.com. For your information, MARCA is a Spanish daily sport newspaper.\n",
    "\n",
    "After creating **url** object which contains the URL for this web, we get the webpage using **requests** package and it is stored in a *Response* object called **page**."
   ]
  },
  {
   "cell_type": "code",
   "execution_count": null,
   "metadata": {},
   "outputs": [],
   "source": [
    "url = \"https://www.marca.com/\"\n",
    "page = requests.get(url)"
   ]
  },
  {
   "cell_type": "markdown",
   "metadata": {},
   "source": [
    "In the next code cell we can show the text content of this website:"
   ]
  },
  {
   "cell_type": "code",
   "execution_count": null,
   "metadata": {},
   "outputs": [],
   "source": [
    "print(page.text)"
   ]
  },
  {
   "cell_type": "markdown",
   "metadata": {},
   "source": [
    "If we look for the headlines in the previous output, we can see that they are within **a** and **h2** tags. Then, we can make use of **BeautifulSoup** package to extract only these headlines."
   ]
  },
  {
   "cell_type": "code",
   "execution_count": null,
   "metadata": {},
   "outputs": [],
   "source": [
    "marca = BeautifulSoup(page.text, \"html.parser\")"
   ]
  },
  {
   "cell_type": "markdown",
   "metadata": {},
   "source": [
    "Now, it is convenient to look for these **a** and **h2** tags within the webpage text. Besides, note that the headlines are located in **a** tags with **itemprop=\"url\"** and in **h2** tags with **class=\"flex-article__heading\"**. However, *class* is a Python reserved word, so it is necessary to include an underscore after this word to avoid errors:"
   ]
  },
  {
   "cell_type": "code",
   "execution_count": null,
   "metadata": {},
   "outputs": [],
   "source": [
    "tit1 = soup.find_all(\"a\", itemprop = \"url\")\n",
    "tit2 = soup.find_all(\"h2\", class_=\"flex-article__heading\")"
   ]
  },
  {
   "cell_type": "markdown",
   "metadata": {},
   "source": [
    "The last step is to print the text between these two tags:"
   ]
  },
  {
   "cell_type": "code",
   "execution_count": null,
   "metadata": {},
   "outputs": [],
   "source": [
    "print(\"#######################\\n\" +\n",
    "      \"# Titulares del MARCA #\\n\" +\n",
    "      \"#######################\\n\")\n",
    "for _ in range(len(tit1)):\n",
    "    print(\"-\", BeautifulSoup(str(soup.find_all(\"a\", itemprop = \"url\")[_])).text.strip())\n",
    "    \n",
    "for _ in range(len(tit2)):\n",
    "    print(\"-\", BeautifulSoup(str(soup.find_all(\"h2\", class_ = \"flex-article__heading\")[_])).text.strip())\n"
   ]
  }
 ],
 "metadata": {
  "celltoolbar": "Raw Cell Format",
  "kernelspec": {
   "display_name": "Python 3",
   "language": "python",
   "name": "python3"
  },
  "language_info": {
   "codemirror_mode": {
    "name": "ipython",
    "version": 3
   },
   "file_extension": ".py",
   "mimetype": "text/x-python",
   "name": "python",
   "nbconvert_exporter": "python",
   "pygments_lexer": "ipython3",
   "version": "3.8.3"
  }
 },
 "nbformat": 4,
 "nbformat_minor": 4
}
